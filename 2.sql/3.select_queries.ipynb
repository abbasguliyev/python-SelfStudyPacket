{
 "cells": [
  {
   "cell_type": "markdown",
   "metadata": {},
   "source": [
    "# Select queries"
   ]
  },
  {
   "cell_type": "markdown",
   "metadata": {},
   "source": [
    "### 1. ORDER BY\n",
    "\n",
    "- İlk ifadəmiz (clause) ORDER BY.\n",
    "    - ORDER BY data bazalarda table-lardan məlumatları müəyyən bir sütuna görə artan (ASC) və ya azalan (DESC) qaydada sıralamaq üçün istifadə olunur."
   ]
  },
  {
   "cell_type": "code",
   "execution_count": null,
   "metadata": {
    "vscode": {
     "languageId": "sql"
    }
   },
   "outputs": [],
   "source": [
    "SELECT * FROM employees ORDER BY salary ASC;\n",
    "SELECT * FROM employees ORDER BY salary DESC;"
   ]
  },
  {
   "cell_type": "code",
   "execution_count": null,
   "metadata": {
    "vscode": {
     "languageId": "sql"
    }
   },
   "outputs": [],
   "source": []
  }
 ],
 "metadata": {
  "language_info": {
   "name": "python"
  }
 },
 "nbformat": 4,
 "nbformat_minor": 2
}
