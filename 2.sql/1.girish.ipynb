{
 "cells": [
  {
   "cell_type": "markdown",
   "metadata": {},
   "source": [
    "# Məlumat bazaları\n",
    "\n",
    "- Biz əvvəlki dərslərimizdə proqramlarımızda olan məlumatları müxtəlif vasitələr istifadə edərək saxlayırdıq. Məsələn python ilk öyrənməyə başladığımız zamanlarda yazdığımız proqramlarda list istifadə etdik, daha sonra dictionary-ə keçid etdik və s. Ancaq bunların bir proplemi var idi ki, proqramı söndürdüyümüz zaman ramdan məlumatlar təmizləndiyi üçün proqramı daha sonra yeniden run etdikdə əvvəl daxil etdiyimiz məlumatları görə bilmirdik. Daha sonra file dərsində bu problemi həll etdik əslində, yəni məlumatlarımızı file-a yazdığımız üçün artıq məlumat itgimiz olmurdu. Ancaq file-ları idarə etmək nisbətən çətin idi. İnşəəAllah gələcəkdə hər hansısa şirkətlərdə çalışdığımız zaman böyük məlumatlar olacaq və bunları saxlamaq üçün file-ları istifadə etmək o qədər də məntiqli olmayacaq. Yəni 1tb-lıq bir məlumatı file üzərində saxlayıb idarə etmək həm riskli həm də idarəsi çətindir.   \n",
    "\n",
    "- Burada artıq bizim köməyimizə məlumat bazaları gəlir. \n",
    "    - Məlumat bazası (verilənlər bazası), müxtəlif növ məlumatların saxlanıldığı və idarə olunduğu bir sistemdir. Məlumatlar cədvəl, sənəd, şəkil, mətn və ya rəqəmsal formada ola bilər. Məlumat bazalarının əsas vəzifəsi məlumatları səmərəli və asanlıqla əldə etmək, idarə etmək və saxlamaqdır. \n",
    "    - Məlumat bazaları əsasən 2 yerə bölünür:\n",
    "        1. Relational Databases (Əlaqəli Verilənlər Bazaları) - Əlaqəli verilənlər bazası, məlumatları cədvəl şəklində təşkil edən bir məlumat bazası növüdür. Bu cədvəllər arasında müəyyən əlaqələr mövcuddur və hər cədvəl müəyyən atributlara (sütunlara) malikdir. Əlaqəli verilənlər bazasında məlumatlar strukturlaşdırılmış şəkildə saxlanılır və SQL dili ilə idarə olunur. Ən çox istifadə edilən əlaqəli verilənlər bazaları aşağıdakılardır:\n",
    "            1. MySQL\n",
    "            2. PostgreSQL\n",
    "            3. SQLite\n",
    "            4. Oracle Database\n",
    "            5. Microsoft SQL Server və s.\n",
    "        2. Non-Relational Databases (Əlaqəsiz Verilənlər Bazaları) - Əlaqəsiz verilənlər bazası isə cədvəl strukturundan istifadə etməyən və məlumatları daha az strukturlaşdırılmış formada saxlayan bazalardır. Onlar daha çox sənəd, açar-dəyər cütləri, qrafik və ya sütunlu məlumatlar üzərində işləyir. Bu növ verilənlər bazaları tez-tez NoSQL adlandırılır və elastik, miqyaslana bilən məlumat saxlama üçün istifadə olunur. Məşhur əlaqəsiz verilənlər bazalarına aşağıdakılar daxildir:\n",
    "            1. MongoDB\n",
    "            2. Cassandra\n",
    "            3. Redis\n",
    "            4. CouchDB və s.\n",
    "\n",
    "    \n",
    "    _Biz bu dərs seriyasında Relational databases üzərindən irəliləyəcəyik_\n",
    "\n"
   ]
  },
  {
   "cell_type": "markdown",
   "metadata": {},
   "source": [
    "# SQL Nədir?\n",
    "\n",
    "- SQL (Structured Query Language) verilənlər bazalarını idarə etmək üçün istifadə edilən standartlaşdırılmış bir dildir. Əsasən relational databases üçün nəzərdə tutulub və məlumatları sorğulamaq, əlavə etmək, yeniləmək və silmək kimi əməliyyatlar üçün istifadə olunur. SQL sayəsində böyük məlumat cədvəllərini asanlıqla idarə etmək və müxtəlif sorğular vasitəsilə lazımi məlumatları əldə etmək mümkündür. Biz necə proqramlar yazmaq üçün proqramlaşdırma dilləri istifadə edirik, eyni qaydada relational database-lər üzərində çalışarkən də SQL dilindən istifadə edəcəyik. Sintaksisi çox rahatdır, çünki bir növ ingilis dilində danışırsan.\n",
    "- Relational Database-lər SQL dilini istifadə etsə də hər birinin özünəməxsus xüsusi funksionallıqları da olur. Ancaq ümumi götürdükdə hər hansısa bir məlumat bazası üzərindən sql öyrənməklə çox rahat şəkildə digər məlumat bazalarına adaptasiya ola bilərik. \n",
    "\n"
   ]
  }
 ],
 "metadata": {
  "kernelspec": {
   "display_name": "Python 3",
   "language": "python",
   "name": "python3"
  },
  "language_info": {
   "codemirror_mode": {
    "name": "ipython",
    "version": 3
   },
   "file_extension": ".py",
   "mimetype": "text/x-python",
   "name": "python",
   "nbconvert_exporter": "python",
   "pygments_lexer": "ipython3",
   "version": "3.12.5"
  }
 },
 "nbformat": 4,
 "nbformat_minor": 2
}
