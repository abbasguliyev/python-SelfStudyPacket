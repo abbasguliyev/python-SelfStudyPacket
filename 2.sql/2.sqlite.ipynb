{
 "cells": [
  {
   "cell_type": "markdown",
   "metadata": {},
   "source": [
    "# SQLite nədir\n",
    "\n",
    "- SQLite relational database-lər içərisində ən sadə və yüngül olanıdır. Biz onu əsasən kiçikmiqyaslı proseslərdə, test mühitlərində və s. istifadə edirik. Və sadə olması səbəbilə də SQL öyrənməyə SQLite üzərindən başlayacayıq.\n",
    "\n",
    "- Ancaq SQLite üzərində əməliyyatlar aparmaq üçün, querylər yazmaq üçün də bizim bir alətə ehtiyacımız var. Təbii ki, terminal (cmd) üzərindən də əməliyyatlarımızı, querylərimizi icra edə bilərik, amma işimizi rahatlaşdırmaq üçün daha istifadəçi dostu, rahat editorlardan istifadə edə bilərik. Biz SQLite üçün DBBrowser istifadə edəcəyik. DBBrowser yükləmək üçün __[https://sqlitebrowser.org/dl/](https://sqlitebrowser.org/dl/)__ bu linkə daxil olub öz kompyuterimizin sisteminə uyğun olan yükləmə seçimini seçmək lazımdır.\n",
    "\n",
    "### Ilk database-mizi qurmaq\n",
    "SQLite da database qurmaq üçün etməli olduğumuz sonluğu sqlite, sqlite3, db və ya db3 ilə bitən bir fayl qurmaqdır. Bunu qurmaq üçün ilk üsulumuz terminal üzərindən aşağıdakı əəliyyatları etməkdir:\n",
    "\n",
    "![title](img/sqlite_terminal.png)\n",
    "\n",
    "* Burada biz ilk öncə database file-mızın olmasını istədiyimiz yerə gedirik, məsələn mən burada Desktop folderində qurmaq istəmişəm. (Terminal üzərindən hər hansısa bir folderə daxil olmaq üçün cd komandasını istifadə edirik)\n",
    "* Daha sonra sqlite3 db_adı.db deyərək database-mizi qurmaq üçün ilk addımımızı atmışıq. Bu komandadan sonra sqlite3-ə terminal üzərindən daxil oluruq. (DBBrowser yüklədiyimiz zaman sqlite3 də yüklənmiş olacaqdır)\n",
    "* Artıq etməli olduğumuz şey sadəcə .database yazmaqdır. Daha sonra .quit yazaraq sqlite3-dən çıxmış oluruq. Əgər Desktopa daxil olsaq və ya mənim etdiyim kimi ls (windowslarda cmd istifadə edənlər dir komandası ilə bunu edə bilər) komandası ilə terminal üzərində Desktop içərisindəkilərə baxmaq istəsək bizim database-mizin burada yarandığını görəcəyik.\n",
    "\n",
    "Gəlin indi isə bunu DBBrowser üzərindən necə edəcəyimizə baxaq.\n",
    "\n",
    "![title](img/db1.png)\n",
    "\n",
    "DBBrowser-i açtığımız zaman bizi bu mənzərə qarşılayacaq. Yuxarıda New Database və Open Database deyə 2 seçim olduğunu görürük. Adlarından da anlaşıldığı kimi əgər var olan database-i açmaq istəyiriksə Open Database-ə basaraq db-mizi seçəcəyik. Yox əgər yeni db qurmaq istəyiriksə bu zaman New Database butonuna basmalıyıq. Biz yeni database quracayıq.\n",
    "\n",
    "![title](img/db2.png)\n",
    "\n",
    "Burada database-mə ad verib (mən new adını verdim, siz istədiyinizi verə bilərsiniz, amma yaxşı olar ki, dəyişən adlarında olduğu kimi mənalı ad verək. Yəni proqramımızı təmsil edən bir ad verək.) və save düyməsinə basırıq. Daha sonra bizi table create etmə səhifəsi qarşılayır əgər istəsək buradan cancel basaraq çıxa bilərik. Create Table butonu ilə bu səhifəni yenidən aça bilərik.\n",
    "\n",
    "![title](img/db3.png)\n",
    "\n",
    "Burada ən yuxarıda table-a ad veririk. Məsələn biz users deyək. Daha sonra aşağıda field hissəsindən table-da olmasını istədiyimiz fieldları yazırıq. Məsələn users məlumatları üçün biz istəyirik ki, mütləq username, first_name və last_name məlumatları daxil edilsin bu zaman aşağıdakı şəkildəki kimi doldurmalıyıq. \n",
    "\n",
    "![title](img/db4.png)\n",
    "\n",
    "Hər bir table-da mütləq id fieldi qoymalıyıq. id sahəsi (field) verilənlər bazalarında tez-tez istifadə olunan unikal identifikator (ID) sütunudur. Bu sütun hər bir qeydi fərqləndirmək üçün istifadə olunur və verilənlər bazasında hər bir sətirə unikal bir dəyər təyin edir. \n",
    "\n",
    "Id üçün NOT NULL, Autoincrement, Primary Key və Unique funksionallıqlarını da verməyiz lazımdır.\n",
    "- NOT NULL: bu field-in boş buraxıla bilməyəcəyini, mütləq əlavə edilməli olduğunu bildirir\n",
    "- Autoincrement (Avtomatik Artırma): id sahəsi adətən avtomatik artırılan (AUTOINCREMENT) xüsusiyyəti ilə istifadə olunur. Bu o deməkdir ki, hər dəfə yeni bir qeyd əlavə edildikdə, id sahəsi avtomatik olaraq əvvəlki dəyərdən bir vahid böyük olacaq.  \n",
    "- Primary Key: Adətən, id sahəsi primary key olaraq təyin edilir. Primary key, bir cədvəl üçün təkdir və hər bir qeydin fərqli olmasını təmin edir. \n",
    "- Unikal dəyər: id sahəsi mütləq unikal olmalıdır. Hər bir sətrin fərqli bir id dəyəri olmalıdır ki, qarışıqlıq yaranmasın.\n",
    "\n",
    "Burada biz həmçinin TEXT, İNTEGER kimi məlumat tipləri də görürük. Bu SQLite-ın məlumatları saxlamaq üçün istifadə etdiyi məlumat tipləridir. İNTEGER tam ədədləri, TEXT mətnləri, string dəyərləri, REAL onluq ədədləri saxlamaq üçün istifadə edilir. Əgər Boolean bir məlumat saxlamalıyıqsa təəssüf ki, SQLite da boolean tipi yoxdur, bunun üçün İNTEGER istifadə edə bilərik, əgər 1 daxil edərsək, bu məlumatın True, 0 daxil edərsək isə False olacağı bir üslub istifadə edə bilərik. \n",
    "\n",
    "### Query nədir. \n",
    "\n",
    "- İndi isə bu komandaları query ilə necə yazacağımıza baxaq. Query sorğu deməkdir, və sql də sorğu yəni query dilidir. Yəni bizi database-ə məlumat əlavə etmək, silmək, update, delete və s. əməliyyatlar etmək üçün SQL-in bizə verdiyi query-lərdən istifadə etməliyik. Gəlin elə table create etmə query-dən başlayaq. \n"
   ]
  },
  {
   "cell_type": "code",
   "execution_count": null,
   "metadata": {
    "vscode": {
     "languageId": "sql"
    }
   },
   "outputs": [],
   "source": [
    "CREATE TABLE users (\n",
    "    id INTEGER PRIMARY KEY AUTOINCREMENT NOT NULL,\n",
    "    username TEXT NOT NULL,\n",
    "    first_name TEXT NOT NULL,\n",
    "    last_name TEXT NOT NULL\n",
    ");"
   ]
  },
  {
   "cell_type": "markdown",
   "metadata": {},
   "source": [
    "Gördüyümüz kimi sintaksisi çox rahatdır. İlk öncə CREATE TABLE komandası ilə table create edəcəyimizi bildiririk, daha sonra isə table-mızın adını daxil edirik, davamında isə () açaraq onun içərisində table-da olacaq fieldları, onların tiplərini və alacaqları xüsusiyyətləri qeyd edirik. Bu xüsusiyyətləri mütləq mənim yuxarıda yazdığım sıra ilə yazmaq məcburiyyətində deyilsiniz. Məsələn AUTOINCREMENT-ı PRIMARY KEY-dən əvvəl də yaza bilərsiniz və s. Hər bir field arasında vergül qoymağı və querynin sonunda nöqtəli vergül yazmağı da unutmayaq. Bu komandaları dbbrowserdə çalışdımaq üçün Execute SQL bölməsinə girməliyik və burada komandamızı yazıb play düyməsinə basmalıyıq. \n",
    "\n",
    "\n",
    "![title](img/db5.png)"
   ]
  },
  {
   "cell_type": "markdown",
   "metadata": {},
   "source": [
    "- Gəlin indi isə bu table-a məlumat necə əlavə edə bilərik onun query-ni yazaq:"
   ]
  },
  {
   "cell_type": "code",
   "execution_count": null,
   "metadata": {
    "vscode": {
     "languageId": "sql"
    }
   },
   "outputs": [],
   "source": [
    "INSERT INTO users (username, first_name, last_name) VALUES ('abbas123', 'Abbas', 'Quliyev');"
   ]
  },
  {
   "cell_type": "markdown",
   "metadata": {},
   "source": [
    "- Table-a yeni məlumat əlavə etmək üçün INSERT INTO açar sözünü istifadə edirik, daha sonra məlumatı hansı table-a əlavə edəcəyimizi yazırıq və ardından mötərizə daxilində hansı field-lara məlumat əlavə edəcəyimizi qeyd edirik. Burada diqqət edirik ki, id field-ni yazmamışıq. Çünki id ona verdiyimiz autoincrement, primary key, unique xüsusiyyətləri sayəsində avtomatik doldurulacaq. Həmçinin burada NOT NULL verdiyimiz field-ları mütləq qeyd etməli olduğumuzu unutmayın, əks halda xəta alacayıq. Çünki NOT NULL xüsusiyyətini vermək həmin field-ın mütləq doldurulmalı olduğunu bildirir. Daha sonra isə VALUES açar sözü ilə qeyd etdiyimiz field-lara göndərəcəyimiz məlumatları qeyd edirik. Məsələn mən burada username olaraq abbas123, first_name olaraq Abbas, last_name olaraq isə Quliyev dəyərlərini vermişəm."
   ]
  },
  {
   "cell_type": "markdown",
   "metadata": {},
   "source": [
    "- İndi isə table-da olan məlumatları çağırmaq query-nə baxaq."
   ]
  },
  {
   "cell_type": "code",
   "execution_count": null,
   "metadata": {
    "vscode": {
     "languageId": "sql"
    }
   },
   "outputs": [],
   "source": [
    "SELECT * FROM users;"
   ]
  },
  {
   "cell_type": "markdown",
   "metadata": {
    "vscode": {
     "languageId": "sql"
    }
   },
   "source": [
    "- Burada istifadə edəcəyimiz açar söz SELECT-dir. Daha sonra * qoyaraq bütün fieldların gətirilməsini istəyirik, buraya () içərisində yalnızca istədiyimiz field-ları qeyd edərək ancaq onlarında ekranda görünməsini təmin edə bilərik. Daha sonra isə FROM deyərək hansı table-dan məlumatları gətirmək istədiyimizi qeyd edirik və hər query-dən sonra ; qoymağı unutmuruq"
   ]
  }
 ],
 "metadata": {
  "language_info": {
   "name": "python"
  }
 },
 "nbformat": 4,
 "nbformat_minor": 2
}
