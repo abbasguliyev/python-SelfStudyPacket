{
 "cells": [
  {
   "cell_type": "markdown",
   "id": "fe6f0663-a5c7-44ef-9cfa-99b827a0001c",
   "metadata": {},
   "source": [
    "# Giriş"
   ]
  },
  {
   "cell_type": "markdown",
   "id": "087c5b4e-207b-4eab-8c1b-492c391f1657",
   "metadata": {},
   "source": [
    "#### Proqramlaşdırma nədir?\n",
    "* İlk öncə gəlin proqramlaşdırma nədir sualına cavab verək. Kompyuterdə və digər cihazlarda tez-tez müxtəlif proqramlar istifadə edirik. Qısaca proqramlaşdırma kompyuterə müəyyən tapşırıqlar, əmrlər vermək prosesidir deyə bilərik. Bəs biz bu əmrləri necə veririk?\n",
    "#### Proqramlaşdırma dilləri haqqında məlumat. Proqramlaşdırma dillərinin növləri\n",
    "* Biz necə bir-birimizlə ünsiyyət qurmaq üçün danışıq dillərinə ehtiyac duyuruqsa, kompyuterlərlə də ünsiyyət qurmaq üçün proqramlaşdırma dillərinə ehtiyacımız var. Kompyuterlərin dili maşın dilidir və bu dilin insan tərəfindən başa düşülməsi çətindir. Bu da kod yazma, proqram yazma prosesini xeyli çətinləşdirir. Proqramlaşdırma dillərini low(aşağı) və high(level) olaraq 2 yerə bölə bilərik. Bu bölünmə proqramlaşdırma dilinin insan dilinə nə qədər yaxın olması, bundan əlavə özündə hazır gələn bəzi funksionallıqlara görə müəyyən edilir. Kompyuterlərin dili yəni maşın dili aşağı səviyyəli dildir. Bizim kurs müddətincə öyrənəcəyimiz Python proqramlaşdırma dili yüksək səviyyəli dillər kateqoriyasına aiddir. Bundan əlavə Java, Javascript, Go, C# və s. kimi proqramlaşdırma dilləri də yüksək səviyyəli proqramlaşdırma dillərinə aiddir. Bəs yaxşı kompyuter bizim yazdığımız yüksək səviyyəli dili necə anlayır deyə sual yarana bilər.\n",
    "#### İnterpreter, compiler.\n",
    "* Biz yüksək səviyyəli dildə məsələn Python dilində bir kod yazdığımız zaman kompyuter bunu anlamır. Burada bizim köməyimizə tərcüməçilər çatır və bizim kodumuzu maşın dilinə çevirərək kompyuterin kodumuzu anlamasını təmin edirlər. Proqramlaşdırma dilləri compiler-li və interpreter-li olmaq üzərə 2 yerə bölünür. Bu 2-si arasında bəzi fərqlər var. Bu fərqlər tərcümə prosesinin üslubuna görə dəyişir. Yəni biri digərindən üstündür və ya zəyifdir demək doğru deyildir, hər 2-sinin də bir-birinə üstün və zəif tərəfləri var. Asand və anlaşıqlı olsun deyə tərcümə prosesini belə izah edə bilərik:\n",
    "    *  Compiler kodu baştan sona oxuduqdan sonra birdəfəlik maşın dilinə çevirir və sonra işə salır. Bu səbəblə biz proqramda dəyişiklik etmədiyimiz müddətcə, hər dəfə çalışdırdıqda tərcümə prosesi getmir. Yəni artıq tərcümə olunmuş kod işə düşür, bu da proqramın daha sürətli işə düşməsini təmin edir. Sadəcə ilk dəfə compile etdikdə kod bütünlükdə maşın dilinə compile olunduğu üçün bu proses biraz gec bitə bilir.\n",
    "    *  İnterpreterli dillərdə isə kod hər dəfə çalışdığı zaman sətirbəsətir maşın dilinə çevrilir.\n",
    "* Python interpreteli dildir.\n",
    "#### Python haqqında məlumat.\n",
    "* Python, yüksək səviyyəli, dinamik, və geniş istifadə olunan bir proqramlaşdırma dilidir. 1991-ci ildən başlayaraq Guido van Rossum tərəfindən yazılıb və asan oxunan və yazılan sintaksisi ilə tanınır. Python çox yönlü bir dildir və bir çox fərqli tətbiq sahələrində istifadə olunur.\n",
    "* Tətbiq Sahələri:\n",
    "    - Veb İnkişafı: Django, Flask və FastAPI kimi framework-lar istifadə edərək veb tətbiqləri inkişaf etdirmək mümkündür.\n",
    "    - Data Analizi və Elmi Hesablama: NumPy, Pandas, SciPy və Matplotlib kimi kitabxanalar elmi hesablamalar, statistik analizlər və məlumat vizuallaşdırması üçün geniş istifadə olunur.\n",
    "    - Süni İntellekt və Maşın Öyrənməsi: TensorFlow, Keras, və Scikit-learn kimi kitabxanalar maşın öyrənməsi və süni intellekt tətbiqləri üçün istifadə edilir.\n",
    "    - Automatlaşdırma və Skriptləşdirmə: Python, gündəlik tapşırıqları avtomatlaşdırmaq üçün skriptlər yazmaq üçün geniş istifadə olunur.\n",
    "    Oyun İnkişafı: Pygame və digər alətlərdən istifadə edərək oyunlar inkişaf etdirmək mümkündür.\n",
    "\n",
    "#### Python kodu necə çalışır?\n",
    "- Biz python-da yazdığımız kodu çalıştırdığımız zaman Python interpreter bizim kodumuzu byte code formatına çevirir və daha sonra bu kodu oxuyur. **ByteCode** maşın dilinə çevrilmiş koddur deyə bilərik. Aşağıdakı şəkilə baxaraq prosesi daha rahat anlaya bilərik:"
   ]
  },
  {
   "cell_type": "markdown",
   "id": "d6fd02f0-e8fc-4280-89b3-308a01ecfa5c",
   "metadata": {},
   "source": [
    "![title](img/pyrun1.gif)"
   ]
  },
  {
   "cell_type": "markdown",
   "id": "5a15d8e2-a8b5-4f0f-9112-d075cd5dd62c",
   "metadata": {},
   "source": [
    "- Virtual Machine python kodunun əməliyyat sistemindən asılı olmadan çalışmasına şərait yaradır. Source File və ya Source code bizim Python dili ilə yazdığımız koddur."
   ]
  }
 ],
 "metadata": {
  "kernelspec": {
   "display_name": "Python 3 (ipykernel)",
   "language": "python",
   "name": "python3"
  },
  "language_info": {
   "codemirror_mode": {
    "name": "ipython",
    "version": 3
   },
   "file_extension": ".py",
   "mimetype": "text/x-python",
   "name": "python",
   "nbconvert_exporter": "python",
   "pygments_lexer": "ipython3",
   "version": "3.12.4"
  }
 },
 "nbformat": 4,
 "nbformat_minor": 5
}
